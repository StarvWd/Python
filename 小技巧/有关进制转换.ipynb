{
 "cells": [
  {
   "cell_type": "markdown",
   "metadata": {},
   "source": [
    "# 内建函数\n",
    "- int(x, base = 10) \n",
    "\t- 返回一个基于x（整数 或 字符串）构造的整数对象，十进制\n",
    "\t- x 是数字是不可指定 base\n",
    "\t- base指定 字符串x 表示的进制\n",
    "- bin(x)\n",
    "\t- 将一个整数 x 转变为前缀为 \"0b\" 的二进制字符串\n",
    "- oct(x)\n",
    "\t- 将一个整数 x 转变为前缀为 \"0o\" 的八进制字符串\n",
    "- hex(x)\n",
    "\t- 将一个整数 x 转变为前缀为 \"0x\" 的十六进制字符串"
   ]
  },
  {
   "cell_type": "code",
   "execution_count": 22,
   "metadata": {},
   "outputs": [
    {
     "data": {
      "text/plain": [
       "'0o31'"
      ]
     },
     "execution_count": 22,
     "metadata": {},
     "output_type": "execute_result"
    }
   ],
   "source": [
    "int('35', 16)\n",
    "int(0x35)\n",
    "oct(0xff)\n",
    "oct(25)"
   ]
  },
  {
   "cell_type": "markdown",
   "metadata": {},
   "source": [
    "# format:省去前缀\n",
    "- "
   ]
  },
  {
   "cell_type": "markdown",
   "metadata": {},
   "source": [
    "\n"
   ]
  },
  {
   "cell_type": "markdown",
   "metadata": {},
   "source": [
    "\n"
   ]
  },
  {
   "cell_type": "code",
   "execution_count": null,
   "metadata": {},
   "outputs": [],
   "source": [
    "\n"
   ]
  },
  {
   "cell_type": "code",
   "execution_count": null,
   "metadata": {},
   "outputs": [],
   "source": [
    "\n"
   ]
  }
 ],
 "metadata": {
  "kernelspec": {
   "display_name": "Python 2",
   "language": "python",
   "name": "python2"
  },
  "language_info": {
   "codemirror_mode": {
    "name": "ipython",
    "version": 2
   },
   "file_extension": ".py",
   "mimetype": "text/x-python",
   "name": "python",
   "nbconvert_exporter": "python",
   "pygments_lexer": "ipython2",
   "version": "2.7.6"
  }
 },
 "nbformat": 4,
 "nbformat_minor": 0
}
